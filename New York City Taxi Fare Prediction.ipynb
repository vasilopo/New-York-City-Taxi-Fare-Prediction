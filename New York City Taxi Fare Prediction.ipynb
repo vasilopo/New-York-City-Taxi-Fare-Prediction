{
 "cells": [
  {
   "cell_type": "markdown",
   "metadata": {},
   "source": [
    "<h1>New York City Taxi Fare Prediction Kaggle Competition</h1>"
   ]
  },
  {
   "cell_type": "markdown",
   "metadata": {},
   "source": [
    "<h3>Dependencies</h3>"
   ]
  },
  {
   "cell_type": "code",
   "execution_count": 1,
   "metadata": {
    "_cell_guid": "b1076dfc-b9ad-4769-8c92-a6c4dae69d19",
    "_uuid": "8f2839f25d086af736a60e9eeb907d3b93b6e0e5"
   },
   "outputs": [
    {
     "name": "stderr",
     "output_type": "stream",
     "text": [
      "/Library/Frameworks/Python.framework/Versions/3.6/lib/python3.6/site-packages/h5py/__init__.py:36: FutureWarning: Conversion of the second argument of issubdtype from `float` to `np.floating` is deprecated. In future, it will be treated as `np.float64 == np.dtype(float).type`.\n",
      "  from ._conv import register_converters as _register_converters\n",
      "Using TensorFlow backend.\n"
     ]
    }
   ],
   "source": [
    "import os\n",
    "import numpy as np\n",
    "import pandas as pd\n",
    "import keras\n",
    "import datetime\n",
    "from math import sin, cos, sqrt, atan2, radians\n",
    "from tqdm import tqdm\n",
    "from keras.callbacks import ReduceLROnPlateau\n",
    "from keras.callbacks import ModelCheckpoint\n",
    "from keras.models import Sequential\n",
    "from keras.layers import Dense,Dropout, BatchNormalization\n",
    "from keras.optimizers import Adam, RMSprop, SGD\n",
    "from sklearn.model_selection import train_test_split\n",
    "from sklearn.utils import shuffle\n",
    "from sklearn.preprocessing import MinMaxScaler, StandardScaler, Normalizer\n",
    "import matplotlib.pyplot as plt"
   ]
  },
  {
   "cell_type": "markdown",
   "metadata": {
    "_cell_guid": "79c7e3d0-c299-4dcb-8224-4455121ee9b0",
    "_uuid": "d629ff2d2480ee46fbb7e2d37f6b5fab8052498a"
   },
   "source": [
    " <h3>Load the Dataset</h3>"
   ]
  },
  {
   "cell_type": "code",
   "execution_count": 2,
   "metadata": {
    "_uuid": "17621f02ce206f887f3685e159e055269b201084"
   },
   "outputs": [],
   "source": [
    "df = pd.read_csv('train.csv',nrows=1000000)\n",
    "df = shuffle(df)\n",
    "\n",
    "\n",
    "df=df[(-76 <= df['pickup_longitude']) & (df['pickup_longitude'] <= -72)]\n",
    "df=df[(-76 <= df['dropoff_longitude']) & (df['dropoff_longitude'] <= -72)]\n",
    "df=df[(38 <= df['pickup_latitude']) & (df['pickup_latitude'] <= 42)]\n",
    "df=df[(38 <= df['dropoff_latitude']) & (df['dropoff_latitude'] <= 42)]\n",
    "# Remove possible outliers\n",
    "df=df[(1 <= df['passenger_count']) & (df['passenger_count'] <= 6)]\n",
    "df=df[(0 < df['fare_amount']) & (df['fare_amount'] <= 250)]    \n",
    "df=df[(df['dropoff_longitude'] != df['pickup_longitude'])]\n",
    "df=df[(df['dropoff_latitude'] != df['pickup_latitude'])]"
   ]
  },
  {
   "cell_type": "markdown",
   "metadata": {},
   "source": [
    "<h3>Preprocess the Data</h3>\n",
    "\n",
    "<ul>\n",
    "<li>Lambda functions</li>\n",
    "<li>Euclidean Distance calculation</li>\n",
    "<li>Latitude/Longitude Difference</li>\n",
    "</ul>"
   ]
  },
  {
   "cell_type": "code",
   "execution_count": 3,
   "metadata": {},
   "outputs": [],
   "source": [
    "def process(df):\n",
    "    df['pickup_datetime'] =  pd.to_datetime(df['pickup_datetime'], format='%Y-%m-%d %H:%M:%S %Z')\n",
    "    df['year'] = df['pickup_datetime'].apply(lambda x: x.year)\n",
    "    df['month'] = df['pickup_datetime'].apply(lambda x: x.month)\n",
    "    df['day'] = df['pickup_datetime'].apply(lambda x: x.day)\n",
    "    df['hour'] = df['pickup_datetime'].apply(lambda x: x.hour)\n",
    "    df['minute'] = df['pickup_datetime'].apply(lambda x: x.minute)\n",
    "    df['second'] = df['pickup_datetime'].apply(lambda x: x.second)\n",
    "    df['weekday'] = df['pickup_datetime'].apply(lambda x: x.weekday())\n",
    "    df['pickup_datetime'] =  df['pickup_datetime'].apply(lambda x: str(x))\n",
    "    \n",
    "    return df\n",
    "\n",
    "\n",
    "def add_engineered(df):\n",
    "    \n",
    "    lat1 = df['pickup_latitude']\n",
    "    lat2 = df['dropoff_latitude']\n",
    "    lon1 = df['pickup_longitude']\n",
    "    lon2 = df['dropoff_longitude']\n",
    "    weekday = df['weekday']\n",
    "    hour = df['hour']\n",
    "\n",
    "    jfk_lat = 40.639722\n",
    "    jfk_lon = -73.778889\n",
    "    ewr_lat = 40.6925 \n",
    "    ewr_lon = -74.168611\n",
    "    lga_lat = 40.77725 \n",
    "    lga_lon = -73.872611\n",
    "\n",
    "    pickup_jfk_latdiff = lat1 - jfk_lat\n",
    "    pickup_jfk_londiff = lon1 - jfk_lon\n",
    "\n",
    "    dropoff_jfk_latdiff = lat2 - jfk_lat\n",
    "    dropoff_jfk_londiff = lon2 - jfk_lon\n",
    "\n",
    "\n",
    "    pickup_ewr_latdiff = lat1 - ewr_lat\n",
    "    pickup_ewr_londiff = lon1 - ewr_lon\n",
    "\n",
    "    dropoff_ewr_latdiff = lat2 - ewr_lat\n",
    "    dropoff_ewr_londiff = lon2 - ewr_lon\n",
    "\n",
    "\n",
    "    pickup_lga_latdiff = lat1 - lga_lat\n",
    "    pickup_lga_londiff = lon1 - lga_lon\n",
    "\n",
    "    dropoff_lga_latdiff = lat2 - lga_lat\n",
    "    dropoff_lga_londiff = lon2 - lga_lon\n",
    "\n",
    "    latdiff = (lat1 - lat2)\n",
    "    londiff = (lon1 - lon2)\n",
    "    euclidean = (latdiff ** 2 + londiff ** 2) ** 0.5    \n",
    "    ploc = lat1 * lon1\n",
    "    dloc = lat2 * lon2\n",
    "    pd_pair = ploc * dloc\n",
    "    day_hr = weekday * hour\n",
    "\n",
    "\n",
    "\n",
    "    pickup_jfk = (pickup_jfk_latdiff ** 2 + pickup_jfk_londiff **2) ** 0.5\n",
    "    dropoff_jfk = (dropoff_jfk_latdiff ** 2 + dropoff_jfk_londiff **2) ** 0.5\n",
    "\n",
    "    pickup_ewr = (pickup_ewr_latdiff ** 2 + pickup_ewr_londiff **2) ** 0.5\n",
    "    dropoff_ewr = (dropoff_ewr_latdiff ** 2 + dropoff_ewr_londiff **2) ** 0.5\n",
    "\n",
    "    pickup_lga = (pickup_lga_latdiff ** 2 + pickup_lga_londiff **2) ** 0.5\n",
    "    dropoff_lga = (dropoff_lga_latdiff ** 2 + dropoff_lga_londiff **2) ** 0.5\n",
    "\n",
    "    df['latdiff'] = latdiff\n",
    "    df['londiff'] = londiff\n",
    "    df['euclidean'] = euclidean\n",
    "    df['ploc'] = ploc\n",
    "    df['dloc'] = dloc\n",
    "    df['pd_pair'] = pd_pair\n",
    "    df['day_hr'] = day_hr\n",
    "    df['pickup_jfk_distance'] = pickup_jfk\n",
    "    df['dropoff_jfk_distance'] = dropoff_jfk\n",
    "    df['pickup_ewr_distance'] = pickup_ewr\n",
    "    df['dropoff_ewr_distance'] = dropoff_ewr\n",
    "    df['pickup_lga_distance'] = pickup_lga\n",
    "    df['dropoff_lga_distance'] = dropoff_lga\n",
    "\n",
    "\n",
    "    df = pd.get_dummies(df, columns=['weekday'])\n",
    "    df = pd.get_dummies(df, columns=['month'])\n",
    "    df = pd.get_dummies(df, columns=['hour'])\n",
    "    \n",
    "    return df"
   ]
  },
  {
   "cell_type": "markdown",
   "metadata": {},
   "source": [
    "<h3>Apply the functions to the Dataset</h3>"
   ]
  },
  {
   "cell_type": "code",
   "execution_count": 4,
   "metadata": {},
   "outputs": [],
   "source": [
    "df = process(df)\n",
    "df = add_engineered(df)"
   ]
  },
  {
   "cell_type": "markdown",
   "metadata": {},
   "source": [
    "<h3>We check the shape of the Dataset</h3>"
   ]
  },
  {
   "cell_type": "code",
   "execution_count": 5,
   "metadata": {
    "_uuid": "19bec130cc8e0c571cec5782ace7607b8457c4b3"
   },
   "outputs": [
    {
     "data": {
      "text/plain": [
       "(964988, 68)"
      ]
     },
     "execution_count": 5,
     "metadata": {},
     "output_type": "execute_result"
    }
   ],
   "source": [
    "df.shape"
   ]
  },
  {
   "cell_type": "markdown",
   "metadata": {},
   "source": [
    "<h3>If there are duplicates in our Dataset we delete them</h3>"
   ]
  },
  {
   "cell_type": "code",
   "execution_count": 6,
   "metadata": {
    "_uuid": "05046a5b4a6cb65b1e8f038156fafaabbdac6596"
   },
   "outputs": [],
   "source": [
    "df = df.drop_duplicates()"
   ]
  },
  {
   "cell_type": "markdown",
   "metadata": {},
   "source": [
    "<h3>We check to see if the Dataset contained Duplicates</h3>"
   ]
  },
  {
   "cell_type": "code",
   "execution_count": 7,
   "metadata": {
    "_uuid": "57345a5366fad5a942506755a165512b0fe2f384"
   },
   "outputs": [
    {
     "data": {
      "text/plain": [
       "(964988, 68)"
      ]
     },
     "execution_count": 7,
     "metadata": {},
     "output_type": "execute_result"
    }
   ],
   "source": [
    "df.shape"
   ]
  },
  {
   "cell_type": "markdown",
   "metadata": {},
   "source": [
    "<h3>We drop all the rows that contain NaN values</h3>"
   ]
  },
  {
   "cell_type": "code",
   "execution_count": 8,
   "metadata": {
    "_uuid": "f7f4d311acfe0546ffb46636826c94d787b3b882"
   },
   "outputs": [],
   "source": [
    "df = df.dropna()"
   ]
  },
  {
   "cell_type": "markdown",
   "metadata": {},
   "source": [
    "<h3>We check the formal of the Dataset</h3>"
   ]
  },
  {
   "cell_type": "code",
   "execution_count": 9,
   "metadata": {},
   "outputs": [
    {
     "data": {
      "text/html": [
       "<div>\n",
       "<style scoped>\n",
       "    .dataframe tbody tr th:only-of-type {\n",
       "        vertical-align: middle;\n",
       "    }\n",
       "\n",
       "    .dataframe tbody tr th {\n",
       "        vertical-align: top;\n",
       "    }\n",
       "\n",
       "    .dataframe thead th {\n",
       "        text-align: right;\n",
       "    }\n",
       "</style>\n",
       "<table border=\"1\" class=\"dataframe\">\n",
       "  <thead>\n",
       "    <tr style=\"text-align: right;\">\n",
       "      <th></th>\n",
       "      <th>key</th>\n",
       "      <th>fare_amount</th>\n",
       "      <th>pickup_datetime</th>\n",
       "      <th>pickup_longitude</th>\n",
       "      <th>pickup_latitude</th>\n",
       "      <th>dropoff_longitude</th>\n",
       "      <th>dropoff_latitude</th>\n",
       "      <th>passenger_count</th>\n",
       "      <th>year</th>\n",
       "      <th>day</th>\n",
       "      <th>...</th>\n",
       "      <th>hour_14</th>\n",
       "      <th>hour_15</th>\n",
       "      <th>hour_16</th>\n",
       "      <th>hour_17</th>\n",
       "      <th>hour_18</th>\n",
       "      <th>hour_19</th>\n",
       "      <th>hour_20</th>\n",
       "      <th>hour_21</th>\n",
       "      <th>hour_22</th>\n",
       "      <th>hour_23</th>\n",
       "    </tr>\n",
       "  </thead>\n",
       "  <tbody>\n",
       "    <tr>\n",
       "      <th>83682</th>\n",
       "      <td>2014-01-08 18:35:00.000000228</td>\n",
       "      <td>10.5</td>\n",
       "      <td>2014-01-08 18:35:00</td>\n",
       "      <td>-73.997740</td>\n",
       "      <td>40.746557</td>\n",
       "      <td>-73.975117</td>\n",
       "      <td>40.758650</td>\n",
       "      <td>1</td>\n",
       "      <td>2014</td>\n",
       "      <td>8</td>\n",
       "      <td>...</td>\n",
       "      <td>0</td>\n",
       "      <td>0</td>\n",
       "      <td>0</td>\n",
       "      <td>0</td>\n",
       "      <td>1</td>\n",
       "      <td>0</td>\n",
       "      <td>0</td>\n",
       "      <td>0</td>\n",
       "      <td>0</td>\n",
       "      <td>0</td>\n",
       "    </tr>\n",
       "    <tr>\n",
       "      <th>106820</th>\n",
       "      <td>2011-01-31 19:29:00.000000200</td>\n",
       "      <td>4.1</td>\n",
       "      <td>2011-01-31 19:29:00</td>\n",
       "      <td>-73.995055</td>\n",
       "      <td>40.744997</td>\n",
       "      <td>-74.005488</td>\n",
       "      <td>40.748258</td>\n",
       "      <td>1</td>\n",
       "      <td>2011</td>\n",
       "      <td>31</td>\n",
       "      <td>...</td>\n",
       "      <td>0</td>\n",
       "      <td>0</td>\n",
       "      <td>0</td>\n",
       "      <td>0</td>\n",
       "      <td>0</td>\n",
       "      <td>1</td>\n",
       "      <td>0</td>\n",
       "      <td>0</td>\n",
       "      <td>0</td>\n",
       "      <td>0</td>\n",
       "    </tr>\n",
       "    <tr>\n",
       "      <th>672145</th>\n",
       "      <td>2013-05-16 02:41:29.0000001</td>\n",
       "      <td>28.0</td>\n",
       "      <td>2013-05-16 02:41:29</td>\n",
       "      <td>-73.996989</td>\n",
       "      <td>40.737521</td>\n",
       "      <td>-73.965043</td>\n",
       "      <td>40.640897</td>\n",
       "      <td>1</td>\n",
       "      <td>2013</td>\n",
       "      <td>16</td>\n",
       "      <td>...</td>\n",
       "      <td>0</td>\n",
       "      <td>0</td>\n",
       "      <td>0</td>\n",
       "      <td>0</td>\n",
       "      <td>0</td>\n",
       "      <td>0</td>\n",
       "      <td>0</td>\n",
       "      <td>0</td>\n",
       "      <td>0</td>\n",
       "      <td>0</td>\n",
       "    </tr>\n",
       "    <tr>\n",
       "      <th>218782</th>\n",
       "      <td>2015-02-19 01:59:32.0000003</td>\n",
       "      <td>8.5</td>\n",
       "      <td>2015-02-19 01:59:32</td>\n",
       "      <td>-74.005623</td>\n",
       "      <td>40.732658</td>\n",
       "      <td>-73.980659</td>\n",
       "      <td>40.729767</td>\n",
       "      <td>1</td>\n",
       "      <td>2015</td>\n",
       "      <td>19</td>\n",
       "      <td>...</td>\n",
       "      <td>0</td>\n",
       "      <td>0</td>\n",
       "      <td>0</td>\n",
       "      <td>0</td>\n",
       "      <td>0</td>\n",
       "      <td>0</td>\n",
       "      <td>0</td>\n",
       "      <td>0</td>\n",
       "      <td>0</td>\n",
       "      <td>0</td>\n",
       "    </tr>\n",
       "    <tr>\n",
       "      <th>981947</th>\n",
       "      <td>2013-07-12 21:28:00.000000120</td>\n",
       "      <td>16.0</td>\n",
       "      <td>2013-07-12 21:28:00</td>\n",
       "      <td>-73.996025</td>\n",
       "      <td>40.729267</td>\n",
       "      <td>-73.988940</td>\n",
       "      <td>40.777577</td>\n",
       "      <td>1</td>\n",
       "      <td>2013</td>\n",
       "      <td>12</td>\n",
       "      <td>...</td>\n",
       "      <td>0</td>\n",
       "      <td>0</td>\n",
       "      <td>0</td>\n",
       "      <td>0</td>\n",
       "      <td>0</td>\n",
       "      <td>0</td>\n",
       "      <td>0</td>\n",
       "      <td>1</td>\n",
       "      <td>0</td>\n",
       "      <td>0</td>\n",
       "    </tr>\n",
       "  </tbody>\n",
       "</table>\n",
       "<p>5 rows × 68 columns</p>\n",
       "</div>"
      ],
      "text/plain": [
       "                                  key  fare_amount      pickup_datetime  \\\n",
       "83682   2014-01-08 18:35:00.000000228         10.5  2014-01-08 18:35:00   \n",
       "106820  2011-01-31 19:29:00.000000200          4.1  2011-01-31 19:29:00   \n",
       "672145    2013-05-16 02:41:29.0000001         28.0  2013-05-16 02:41:29   \n",
       "218782    2015-02-19 01:59:32.0000003          8.5  2015-02-19 01:59:32   \n",
       "981947  2013-07-12 21:28:00.000000120         16.0  2013-07-12 21:28:00   \n",
       "\n",
       "        pickup_longitude  pickup_latitude  dropoff_longitude  \\\n",
       "83682         -73.997740        40.746557         -73.975117   \n",
       "106820        -73.995055        40.744997         -74.005488   \n",
       "672145        -73.996989        40.737521         -73.965043   \n",
       "218782        -74.005623        40.732658         -73.980659   \n",
       "981947        -73.996025        40.729267         -73.988940   \n",
       "\n",
       "        dropoff_latitude  passenger_count  year  day   ...     hour_14  \\\n",
       "83682          40.758650                1  2014    8   ...           0   \n",
       "106820         40.748258                1  2011   31   ...           0   \n",
       "672145         40.640897                1  2013   16   ...           0   \n",
       "218782         40.729767                1  2015   19   ...           0   \n",
       "981947         40.777577                1  2013   12   ...           0   \n",
       "\n",
       "        hour_15  hour_16  hour_17  hour_18  hour_19  hour_20  hour_21  \\\n",
       "83682         0        0        0        1        0        0        0   \n",
       "106820        0        0        0        0        1        0        0   \n",
       "672145        0        0        0        0        0        0        0   \n",
       "218782        0        0        0        0        0        0        0   \n",
       "981947        0        0        0        0        0        0        1   \n",
       "\n",
       "        hour_22  hour_23  \n",
       "83682         0        0  \n",
       "106820        0        0  \n",
       "672145        0        0  \n",
       "218782        0        0  \n",
       "981947        0        0  \n",
       "\n",
       "[5 rows x 68 columns]"
      ]
     },
     "execution_count": 9,
     "metadata": {},
     "output_type": "execute_result"
    }
   ],
   "source": [
    "df.head()"
   ]
  },
  {
   "cell_type": "markdown",
   "metadata": {},
   "source": [
    "<h3>We split the Dataset to x_train and y_train</h3>"
   ]
  },
  {
   "cell_type": "code",
   "execution_count": 10,
   "metadata": {
    "_uuid": "95686cd658c362e53d611358a7fc92a25f9ff2c2"
   },
   "outputs": [],
   "source": [
    "y_train = df['fare_amount']\n",
    "y_train = np.array(y_train)\n",
    "y_train = y_train.reshape(-1,1)\n",
    "\n",
    "output_sc = MinMaxScaler()\n",
    "\n",
    "x_train = df.drop(['key','fare_amount','pickup_datetime','pickup_latitude','pickup_longitude','dropoff_latitude','dropoff_longitude'], axis=1)"
   ]
  },
  {
   "cell_type": "markdown",
   "metadata": {},
   "source": [
    "<h3>We apply the MinMaxScaler in order to convert all the values of the dataset between 0 and 1</h3>"
   ]
  },
  {
   "cell_type": "code",
   "execution_count": 11,
   "metadata": {},
   "outputs": [],
   "source": [
    "x_train = np.array(x_train)\n",
    "\n",
    "sc = MinMaxScaler()\n",
    "\n",
    "x_train = sc.fit_transform(x_train)"
   ]
  },
  {
   "cell_type": "code",
   "execution_count": 12,
   "metadata": {
    "_uuid": "29b7a4a291c2982b95786736dddc24451d1f8e65"
   },
   "outputs": [
    {
     "data": {
      "text/plain": [
       "(964988, 61)"
      ]
     },
     "execution_count": 12,
     "metadata": {},
     "output_type": "execute_result"
    }
   ],
   "source": [
    "x_train.shape"
   ]
  },
  {
   "cell_type": "markdown",
   "metadata": {
    "_uuid": "e336f394089f94bf696b76ff2b6b6e24c53d85d5"
   },
   "source": [
    "<h3>Neural Network Model Architecture</h3>"
   ]
  },
  {
   "cell_type": "code",
   "execution_count": 13,
   "metadata": {
    "_uuid": "09f8e89728e71f91b229b61c781f63ed46575b02"
   },
   "outputs": [],
   "source": [
    "model = Sequential()\n",
    "\n",
    "model.add(Dense(units = 200,activation = 'relu',bias_initializer='zeros',use_bias=True, input_dim = x_train.shape[1]))\n",
    "model.add(Dropout(0.3))\n",
    "model.add(BatchNormalization())\n",
    "\n",
    "model.add(Dense(units = 400, activation = 'relu',use_bias=True,bias_initializer='zeros'))\n",
    "model.add(Dropout(0.3))\n",
    "model.add(BatchNormalization())\n",
    "\n",
    "model.add(Dense(units = 100, activation = 'relu',use_bias=True,bias_initializer='zeros'))\n",
    "model.add(Dropout(0.3))\n",
    "model.add(BatchNormalization())\n",
    "\n",
    "model.add(Dense(units = 120, activation = 'relu',use_bias=True,bias_initializer='zeros'))\n",
    "model.add(Dropout(0.3))\n",
    "model.add(BatchNormalization())\n",
    "\n",
    "model.add(Dense(units = 140, activation = 'relu',use_bias=True,bias_initializer='zeros'))\n",
    "model.add(Dropout(0.3))\n",
    "model.add(BatchNormalization())\n",
    "\n",
    "model.add(Dense(units = 80, activation = 'relu',use_bias=True,bias_initializer='zeros'))\n",
    "\n",
    "model.add(Dense(units = 1))"
   ]
  },
  {
   "cell_type": "markdown",
   "metadata": {},
   "source": [
    "<h3>Neural Network Optimizer</h3>"
   ]
  },
  {
   "cell_type": "code",
   "execution_count": 14,
   "metadata": {},
   "outputs": [],
   "source": [
    "optimizer = Adam(lr=0.001)"
   ]
  },
  {
   "cell_type": "markdown",
   "metadata": {},
   "source": [
    "<h3>Model compile with Adam Optimizer, using Mean Square Error as loss</h3>"
   ]
  },
  {
   "cell_type": "code",
   "execution_count": 15,
   "metadata": {},
   "outputs": [],
   "source": [
    "model.compile(optimizer=optimizer,loss='mse',metrics=['mse','acc'])"
   ]
  },
  {
   "cell_type": "markdown",
   "metadata": {},
   "source": [
    "<h3>Checkpoint to save only the model with the best validation_loss</h3>"
   ]
  },
  {
   "cell_type": "code",
   "execution_count": 16,
   "metadata": {},
   "outputs": [],
   "source": [
    "filepath = 'best_model.hdf5'\n",
    "\n",
    "checkpoint = ModelCheckpoint(filepath=filepath,monitor='val_loss', verbose = 1, save_best_only=True)"
   ]
  },
  {
   "cell_type": "markdown",
   "metadata": {},
   "source": [
    "<h3>Model train</h3>"
   ]
  },
  {
   "cell_type": "code",
   "execution_count": 17,
   "metadata": {
    "_uuid": "bb9b43c7c9da4a0788d568eef7dbbaeb91797c47",
    "scrolled": false
   },
   "outputs": [
    {
     "name": "stdout",
     "output_type": "stream",
     "text": [
      "Train on 192997 samples, validate on 771991 samples\n",
      "Epoch 1/5\n",
      "192997/192997 [==============================] - 23s 118us/step - loss: 103.2367 - mean_squared_error: 103.2367 - acc: 0.0113 - val_loss: 72.5314 - val_mean_squared_error: 72.5314 - val_acc: 0.0162\n",
      "\n",
      "Epoch 00001: val_loss improved from inf to 72.53144, saving model to best_model.hdf5\n",
      "Epoch 2/5\n",
      "192997/192997 [==============================] - 21s 107us/step - loss: 48.8499 - mean_squared_error: 48.8499 - acc: 0.0158 - val_loss: 48.1850 - val_mean_squared_error: 48.1850 - val_acc: 0.0214\n",
      "\n",
      "Epoch 00002: val_loss improved from 72.53144 to 48.18499, saving model to best_model.hdf5\n",
      "Epoch 3/5\n",
      "192997/192997 [==============================] - 20s 106us/step - loss: 32.6100 - mean_squared_error: 32.6100 - acc: 0.0216 - val_loss: 29.5605 - val_mean_squared_error: 29.5605 - val_acc: 0.0259\n",
      "\n",
      "Epoch 00003: val_loss improved from 48.18499 to 29.56052, saving model to best_model.hdf5\n",
      "Epoch 4/5\n",
      "192997/192997 [==============================] - 21s 107us/step - loss: 27.5764 - mean_squared_error: 27.5764 - acc: 0.0259 - val_loss: 25.2852 - val_mean_squared_error: 25.2852 - val_acc: 0.0277\n",
      "\n",
      "Epoch 00004: val_loss improved from 29.56052 to 25.28518, saving model to best_model.hdf5\n",
      "Epoch 5/5\n",
      "192997/192997 [==============================] - 21s 109us/step - loss: 25.5888 - mean_squared_error: 25.5888 - acc: 0.0275 - val_loss: 21.0577 - val_mean_squared_error: 21.0577 - val_acc: 0.0342\n",
      "\n",
      "Epoch 00005: val_loss improved from 25.28518 to 21.05774, saving model to best_model.hdf5\n"
     ]
    }
   ],
   "source": [
    "history = model.fit(x_train,y_train,epochs=5,batch_size=1000,callbacks=[checkpoint],validation_split=0.8)"
   ]
  },
  {
   "cell_type": "markdown",
   "metadata": {},
   "source": [
    "<h3>Plot train loss vs validation loss</h3>"
   ]
  },
  {
   "cell_type": "code",
   "execution_count": 18,
   "metadata": {
    "_uuid": "f60fa6c174837629ae01faea77565618a833be67"
   },
   "outputs": [
    {
     "data": {
      "image/png": "[encoded data removed]",
      "text/plain": [
       "<Figure size 2880x1440 with 1 Axes>"
      ]
     },
     "metadata": {},
     "output_type": "display_data"
    }
   ],
   "source": [
    "def plot_loss_accuracy(history):\n",
    "    plt.figure(figsize=(40,20))\n",
    "    plt.plot(history.history['loss'])\n",
    "    plt.plot(history.history['val_loss'])\n",
    "    plt.title('model loss')\n",
    "    plt.ylabel('loss')\n",
    "    plt.xlabel('epoch')\n",
    "    plt.legend(['train', 'val'], loc='upper right')\n",
    "    plt.savefig('loss.png')\n",
    "    \n",
    "    \n",
    "plot_loss_accuracy(history)"
   ]
  },
  {
   "cell_type": "markdown",
   "metadata": {
    "_uuid": "e7b71c371afe075c9ba28a87fb67f7822488f472"
   },
   "source": [
    "<h3>Load the test Dataset</h3>"
   ]
  },
  {
   "cell_type": "code",
   "execution_count": 19,
   "metadata": {
    "_uuid": "b756a18928f1c9a7ca6a81a38b729dc2b693b8e0"
   },
   "outputs": [],
   "source": [
    "test_df = pd.read_csv('test.csv')"
   ]
  },
  {
   "cell_type": "markdown",
   "metadata": {},
   "source": [
    "<h3>Apply the Processing Data functions to the test Dataset</h3>"
   ]
  },
  {
   "cell_type": "code",
   "execution_count": 20,
   "metadata": {
    "_uuid": "97e5cc9b268ad73bcb7ec3294e1cb8996bd48064"
   },
   "outputs": [],
   "source": [
    "test_df = process(test_df)\n",
    "test_df = add_engineered(test_df)"
   ]
  },
  {
   "cell_type": "markdown",
   "metadata": {},
   "source": [
    "<h3>Keep the key in order to create the submission file</h3>"
   ]
  },
  {
   "cell_type": "code",
   "execution_count": 21,
   "metadata": {
    "_uuid": "7ef2f743588a33eff1c07bb551ad9120b24507eb"
   },
   "outputs": [],
   "source": [
    "key = test_df['key']"
   ]
  },
  {
   "cell_type": "code",
   "execution_count": 22,
   "metadata": {
    "_uuid": "e3f7dbbd46a09db52ab8736d213c2f195e048a08"
   },
   "outputs": [
    {
     "data": {
      "text/plain": [
       "(9914, 67)"
      ]
     },
     "execution_count": 22,
     "metadata": {},
     "output_type": "execute_result"
    }
   ],
   "source": [
    "test_df.shape"
   ]
  },
  {
   "cell_type": "markdown",
   "metadata": {},
   "source": [
    "<h3>Keep the train data of the test Dataset</h3>"
   ]
  },
  {
   "cell_type": "code",
   "execution_count": 23,
   "metadata": {
    "_uuid": "e427cb4fa8f8193d9bc7f7a67fcadaced210dcf4"
   },
   "outputs": [],
   "source": [
    "x_test = test_df.drop(['key','pickup_datetime','pickup_latitude','pickup_longitude','dropoff_latitude','dropoff_longitude'], axis=1)\n",
    "\n",
    "x_test = x_test.astype('float64')"
   ]
  },
  {
   "cell_type": "markdown",
   "metadata": {},
   "source": [
    "<h3>Use the Scaler that was used on the train dataset also to transform the data</h3>"
   ]
  },
  {
   "cell_type": "code",
   "execution_count": 24,
   "metadata": {},
   "outputs": [],
   "source": [
    "x_test = sc.transform(x_test)"
   ]
  },
  {
   "cell_type": "markdown",
   "metadata": {},
   "source": [
    "<h3>Keras Dependencies to load the best model that was saved from the callbacks</h3>"
   ]
  },
  {
   "cell_type": "code",
   "execution_count": 25,
   "metadata": {
    "_uuid": "6fe94edc04009a7b9b460188025ea870fe09c081"
   },
   "outputs": [],
   "source": [
    "from keras.models import load_model"
   ]
  },
  {
   "cell_type": "markdown",
   "metadata": {},
   "source": [
    "<h3>Load the best model and predict</h3>"
   ]
  },
  {
   "cell_type": "code",
   "execution_count": 26,
   "metadata": {},
   "outputs": [],
   "source": [
    "best_model = load_model('best_model.hdf5')\n",
    "submit = best_model.predict(x_test)"
   ]
  },
  {
   "cell_type": "code",
   "execution_count": 27,
   "metadata": {
    "_uuid": "3417ce2a62e4a9e2ace004eed6b9b7f89493b441"
   },
   "outputs": [
    {
     "data": {
      "text/plain": [
       "array([[11.445358 ],\n",
       "       [13.149996 ],\n",
       "       [ 6.2170963],\n",
       "       ...,\n",
       "       [46.24572  ],\n",
       "       [19.09284  ],\n",
       "       [ 7.5926876]], dtype=float32)"
      ]
     },
     "execution_count": 27,
     "metadata": {},
     "output_type": "execute_result"
    }
   ],
   "source": [
    "submit"
   ]
  },
  {
   "cell_type": "markdown",
   "metadata": {},
   "source": [
    "<h3>Create the necessary format for the submission file and save it as csv</h3>"
   ]
  },
  {
   "cell_type": "code",
   "execution_count": 28,
   "metadata": {
    "_uuid": "b144f9218fedcede4d3a89931e19183e1f30ac6a"
   },
   "outputs": [],
   "source": [
    "submit_final = pd.DataFrame({'fare_amount':submit[:,0]})\n",
    "final = pd.concat([key,submit_final], axis=1)\n",
    "final.to_csv('final_submit_best_model.csv',index= False)"
   ]
  }
 ],
 "metadata": {
  "kernelspec": {
   "display_name": "Python 3",
   "language": "python",
   "name": "python3"
  },
  "language_info": {
   "codemirror_mode": {
    "name": "ipython",
    "version": 3
   },
   "file_extension": ".py",
   "mimetype": "text/x-python",
   "name": "python",
   "nbconvert_exporter": "python",
   "pygments_lexer": "ipython3",
   "version": "3.6.5"
  }
 },
 "nbformat": 4,
 "nbformat_minor": 1
}
